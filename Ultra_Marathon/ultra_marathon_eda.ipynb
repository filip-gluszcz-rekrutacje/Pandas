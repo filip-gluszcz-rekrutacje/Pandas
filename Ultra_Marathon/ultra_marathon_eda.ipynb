{
 "cells": [
  {
   "cell_type": "code",
   "execution_count": 1,
   "id": "1a71c040-67a2-461b-b18d-a9755a810e0c",
   "metadata": {},
   "outputs": [],
   "source": [
    "import pandas as pd\n",
    "pd.options.mode.chained_assignment = None  # default='warn'"
   ]
  },
  {
   "cell_type": "code",
   "execution_count": 2,
   "id": "f130610e-cfcf-4eb2-9255-eca64c23dcbe",
   "metadata": {},
   "outputs": [],
   "source": [
    "import seaborn as sns"
   ]
  },
  {
   "cell_type": "code",
   "execution_count": 3,
   "id": "dbb7e3ec-bf77-47ac-a52c-2b3eeb33cc47",
   "metadata": {},
   "outputs": [
    {
     "name": "stderr",
     "output_type": "stream",
     "text": [
      "/var/folders/md/cg23_f211lbbqk8tc76zlt000000gn/T/ipykernel_10155/2789373578.py:1: DtypeWarning: Columns (11) have mixed types. Specify dtype option on import or set low_memory=False.\n",
      "  df = pd.read_csv('data/TWO_CENTURIES_OF_UM_RACES.csv')\n"
     ]
    }
   ],
   "source": [
    "# TO PROCEED\n",
    "# download data set https://www.kaggle.com/datasets/aiaiaidavid/the-big-dataset-of-ultra-marathon-running/discussion/420633\n",
    "# copy TWO_CENTURIES_OF_UM_RACES.csv and paste do data folder\n",
    "df = pd.read_csv('data/TWO_CENTURIES_OF_UM_RACES.csv')"
   ]
  },
  {
   "cell_type": "code",
   "execution_count": 4,
   "id": "bd5734e2-a3bb-4775-aa06-b28d0a7044fb",
   "metadata": {},
   "outputs": [
    {
     "data": {
      "text/html": [
       "<div>\n",
       "<style scoped>\n",
       "    .dataframe tbody tr th:only-of-type {\n",
       "        vertical-align: middle;\n",
       "    }\n",
       "\n",
       "    .dataframe tbody tr th {\n",
       "        vertical-align: top;\n",
       "    }\n",
       "\n",
       "    .dataframe thead th {\n",
       "        text-align: right;\n",
       "    }\n",
       "</style>\n",
       "<table border=\"1\" class=\"dataframe\">\n",
       "  <thead>\n",
       "    <tr style=\"text-align: right;\">\n",
       "      <th></th>\n",
       "      <th>Year of event</th>\n",
       "      <th>Event dates</th>\n",
       "      <th>Event name</th>\n",
       "      <th>Event distance/length</th>\n",
       "      <th>Event number of finishers</th>\n",
       "      <th>Athlete performance</th>\n",
       "      <th>Athlete club</th>\n",
       "      <th>Athlete country</th>\n",
       "      <th>Athlete year of birth</th>\n",
       "      <th>Athlete gender</th>\n",
       "      <th>Athlete age category</th>\n",
       "      <th>Athlete average speed</th>\n",
       "      <th>Athlete ID</th>\n",
       "    </tr>\n",
       "  </thead>\n",
       "  <tbody>\n",
       "    <tr>\n",
       "      <th>0</th>\n",
       "      <td>2018</td>\n",
       "      <td>06.01.2018</td>\n",
       "      <td>Selva Costera (CHI)</td>\n",
       "      <td>50km</td>\n",
       "      <td>22</td>\n",
       "      <td>4:51:39 h</td>\n",
       "      <td>Tnfrc</td>\n",
       "      <td>CHI</td>\n",
       "      <td>1978.0</td>\n",
       "      <td>M</td>\n",
       "      <td>M35</td>\n",
       "      <td>10.286</td>\n",
       "      <td>0</td>\n",
       "    </tr>\n",
       "    <tr>\n",
       "      <th>1</th>\n",
       "      <td>2018</td>\n",
       "      <td>06.01.2018</td>\n",
       "      <td>Selva Costera (CHI)</td>\n",
       "      <td>50km</td>\n",
       "      <td>22</td>\n",
       "      <td>5:15:45 h</td>\n",
       "      <td>Roberto Echeverría</td>\n",
       "      <td>CHI</td>\n",
       "      <td>1981.0</td>\n",
       "      <td>M</td>\n",
       "      <td>M35</td>\n",
       "      <td>9.501</td>\n",
       "      <td>1</td>\n",
       "    </tr>\n",
       "    <tr>\n",
       "      <th>2</th>\n",
       "      <td>2018</td>\n",
       "      <td>06.01.2018</td>\n",
       "      <td>Selva Costera (CHI)</td>\n",
       "      <td>50km</td>\n",
       "      <td>22</td>\n",
       "      <td>5:16:44 h</td>\n",
       "      <td>Puro Trail Osorno</td>\n",
       "      <td>CHI</td>\n",
       "      <td>1987.0</td>\n",
       "      <td>M</td>\n",
       "      <td>M23</td>\n",
       "      <td>9.472</td>\n",
       "      <td>2</td>\n",
       "    </tr>\n",
       "    <tr>\n",
       "      <th>3</th>\n",
       "      <td>2018</td>\n",
       "      <td>06.01.2018</td>\n",
       "      <td>Selva Costera (CHI)</td>\n",
       "      <td>50km</td>\n",
       "      <td>22</td>\n",
       "      <td>5:34:13 h</td>\n",
       "      <td>Columbia</td>\n",
       "      <td>ARG</td>\n",
       "      <td>1976.0</td>\n",
       "      <td>M</td>\n",
       "      <td>M40</td>\n",
       "      <td>8.976</td>\n",
       "      <td>3</td>\n",
       "    </tr>\n",
       "    <tr>\n",
       "      <th>4</th>\n",
       "      <td>2018</td>\n",
       "      <td>06.01.2018</td>\n",
       "      <td>Selva Costera (CHI)</td>\n",
       "      <td>50km</td>\n",
       "      <td>22</td>\n",
       "      <td>5:54:14 h</td>\n",
       "      <td>Baguales Trail</td>\n",
       "      <td>CHI</td>\n",
       "      <td>1992.0</td>\n",
       "      <td>M</td>\n",
       "      <td>M23</td>\n",
       "      <td>8.469</td>\n",
       "      <td>4</td>\n",
       "    </tr>\n",
       "  </tbody>\n",
       "</table>\n",
       "</div>"
      ],
      "text/plain": [
       "   Year of event Event dates           Event name Event distance/length  \\\n",
       "0           2018  06.01.2018  Selva Costera (CHI)                  50km   \n",
       "1           2018  06.01.2018  Selva Costera (CHI)                  50km   \n",
       "2           2018  06.01.2018  Selva Costera (CHI)                  50km   \n",
       "3           2018  06.01.2018  Selva Costera (CHI)                  50km   \n",
       "4           2018  06.01.2018  Selva Costera (CHI)                  50km   \n",
       "\n",
       "   Event number of finishers Athlete performance        Athlete club  \\\n",
       "0                         22           4:51:39 h               Tnfrc   \n",
       "1                         22           5:15:45 h  Roberto Echeverría   \n",
       "2                         22           5:16:44 h   Puro Trail Osorno   \n",
       "3                         22           5:34:13 h            Columbia   \n",
       "4                         22           5:54:14 h      Baguales Trail   \n",
       "\n",
       "  Athlete country  Athlete year of birth Athlete gender Athlete age category  \\\n",
       "0             CHI                 1978.0              M                  M35   \n",
       "1             CHI                 1981.0              M                  M35   \n",
       "2             CHI                 1987.0              M                  M23   \n",
       "3             ARG                 1976.0              M                  M40   \n",
       "4             CHI                 1992.0              M                  M23   \n",
       "\n",
       "  Athlete average speed  Athlete ID  \n",
       "0                10.286           0  \n",
       "1                 9.501           1  \n",
       "2                 9.472           2  \n",
       "3                 8.976           3  \n",
       "4                 8.469           4  "
      ]
     },
     "execution_count": 4,
     "metadata": {},
     "output_type": "execute_result"
    }
   ],
   "source": [
    "df.head()"
   ]
  },
  {
   "cell_type": "code",
   "execution_count": 5,
   "id": "37fa28be-b70d-4355-993d-20d298810972",
   "metadata": {},
   "outputs": [
    {
     "data": {
      "text/plain": [
       "(7461195, 13)"
      ]
     },
     "execution_count": 5,
     "metadata": {},
     "output_type": "execute_result"
    }
   ],
   "source": [
    "df.shape"
   ]
  },
  {
   "cell_type": "markdown",
   "id": "7c5d918b-f8c4-4abc-af04-fd0433d636f2",
   "metadata": {},
   "source": [
    "# Creation of subset of 50km/50mi marathons in USA in 2020"
   ]
  },
  {
   "cell_type": "code",
   "execution_count": 6,
   "id": "195f8ab7-c6bf-4a31-b601-e0e28f596d33",
   "metadata": {},
   "outputs": [],
   "source": [
    "subset = df[(df['Event distance/length'].isin(['50km', '50mi'])) & (df['Year of event']==2020) & (df['Event name'].apply(lambda x: x[-5:]=='(USA)'))]"
   ]
  },
  {
   "cell_type": "code",
   "execution_count": 7,
   "id": "c4be9ab0-d524-4fd3-848c-5866316d5ba6",
   "metadata": {},
   "outputs": [
    {
     "data": {
      "text/plain": [
       "(26524, 13)"
      ]
     },
     "execution_count": 7,
     "metadata": {},
     "output_type": "execute_result"
    }
   ],
   "source": [
    "subset.shape"
   ]
  },
  {
   "cell_type": "code",
   "execution_count": 8,
   "id": "6b7f685d-b971-432a-9b58-e95cc4b7841f",
   "metadata": {
    "scrolled": true
   },
   "outputs": [
    {
     "data": {
      "text/html": [
       "<div>\n",
       "<style scoped>\n",
       "    .dataframe tbody tr th:only-of-type {\n",
       "        vertical-align: middle;\n",
       "    }\n",
       "\n",
       "    .dataframe tbody tr th {\n",
       "        vertical-align: top;\n",
       "    }\n",
       "\n",
       "    .dataframe thead th {\n",
       "        text-align: right;\n",
       "    }\n",
       "</style>\n",
       "<table border=\"1\" class=\"dataframe\">\n",
       "  <thead>\n",
       "    <tr style=\"text-align: right;\">\n",
       "      <th></th>\n",
       "      <th>Year of event</th>\n",
       "      <th>Event dates</th>\n",
       "      <th>Event name</th>\n",
       "      <th>Event distance/length</th>\n",
       "      <th>Event number of finishers</th>\n",
       "      <th>Athlete performance</th>\n",
       "      <th>Athlete club</th>\n",
       "      <th>Athlete country</th>\n",
       "      <th>Athlete year of birth</th>\n",
       "      <th>Athlete gender</th>\n",
       "      <th>Athlete age category</th>\n",
       "      <th>Athlete average speed</th>\n",
       "      <th>Athlete ID</th>\n",
       "    </tr>\n",
       "  </thead>\n",
       "  <tbody>\n",
       "    <tr>\n",
       "      <th>2539945</th>\n",
       "      <td>2020</td>\n",
       "      <td>02.02.2020</td>\n",
       "      <td>West Seattle Beach Run - Winter Edition (USA)</td>\n",
       "      <td>50km</td>\n",
       "      <td>20</td>\n",
       "      <td>3:17:55 h</td>\n",
       "      <td>*Normandy Park, WA</td>\n",
       "      <td>USA</td>\n",
       "      <td>1991.0</td>\n",
       "      <td>M</td>\n",
       "      <td>M23</td>\n",
       "      <td>15.158</td>\n",
       "      <td>71287</td>\n",
       "    </tr>\n",
       "    <tr>\n",
       "      <th>2539946</th>\n",
       "      <td>2020</td>\n",
       "      <td>02.02.2020</td>\n",
       "      <td>West Seattle Beach Run - Winter Edition (USA)</td>\n",
       "      <td>50km</td>\n",
       "      <td>20</td>\n",
       "      <td>4:02:32 h</td>\n",
       "      <td>*Gold Bar, WA</td>\n",
       "      <td>USA</td>\n",
       "      <td>1981.0</td>\n",
       "      <td>M</td>\n",
       "      <td>M35</td>\n",
       "      <td>12.369</td>\n",
       "      <td>629508</td>\n",
       "    </tr>\n",
       "    <tr>\n",
       "      <th>2539947</th>\n",
       "      <td>2020</td>\n",
       "      <td>02.02.2020</td>\n",
       "      <td>West Seattle Beach Run - Winter Edition (USA)</td>\n",
       "      <td>50km</td>\n",
       "      <td>20</td>\n",
       "      <td>4:07:57 h</td>\n",
       "      <td>*Vashon, WA</td>\n",
       "      <td>USA</td>\n",
       "      <td>1999.0</td>\n",
       "      <td>M</td>\n",
       "      <td>MU23</td>\n",
       "      <td>12.099</td>\n",
       "      <td>64838</td>\n",
       "    </tr>\n",
       "    <tr>\n",
       "      <th>2539948</th>\n",
       "      <td>2020</td>\n",
       "      <td>02.02.2020</td>\n",
       "      <td>West Seattle Beach Run - Winter Edition (USA)</td>\n",
       "      <td>50km</td>\n",
       "      <td>20</td>\n",
       "      <td>4:22:02 h</td>\n",
       "      <td>*Gig Harbor, WA</td>\n",
       "      <td>USA</td>\n",
       "      <td>1983.0</td>\n",
       "      <td>M</td>\n",
       "      <td>M35</td>\n",
       "      <td>11.449</td>\n",
       "      <td>704450</td>\n",
       "    </tr>\n",
       "    <tr>\n",
       "      <th>2539949</th>\n",
       "      <td>2020</td>\n",
       "      <td>02.02.2020</td>\n",
       "      <td>West Seattle Beach Run - Winter Edition (USA)</td>\n",
       "      <td>50km</td>\n",
       "      <td>20</td>\n",
       "      <td>4:27:34 h</td>\n",
       "      <td>*Bainbridge Island, WA</td>\n",
       "      <td>USA</td>\n",
       "      <td>1977.0</td>\n",
       "      <td>M</td>\n",
       "      <td>M40</td>\n",
       "      <td>11.212</td>\n",
       "      <td>810281</td>\n",
       "    </tr>\n",
       "  </tbody>\n",
       "</table>\n",
       "</div>"
      ],
      "text/plain": [
       "         Year of event Event dates  \\\n",
       "2539945           2020  02.02.2020   \n",
       "2539946           2020  02.02.2020   \n",
       "2539947           2020  02.02.2020   \n",
       "2539948           2020  02.02.2020   \n",
       "2539949           2020  02.02.2020   \n",
       "\n",
       "                                            Event name Event distance/length  \\\n",
       "2539945  West Seattle Beach Run - Winter Edition (USA)                  50km   \n",
       "2539946  West Seattle Beach Run - Winter Edition (USA)                  50km   \n",
       "2539947  West Seattle Beach Run - Winter Edition (USA)                  50km   \n",
       "2539948  West Seattle Beach Run - Winter Edition (USA)                  50km   \n",
       "2539949  West Seattle Beach Run - Winter Edition (USA)                  50km   \n",
       "\n",
       "         Event number of finishers Athlete performance  \\\n",
       "2539945                         20           3:17:55 h   \n",
       "2539946                         20           4:02:32 h   \n",
       "2539947                         20           4:07:57 h   \n",
       "2539948                         20           4:22:02 h   \n",
       "2539949                         20           4:27:34 h   \n",
       "\n",
       "                   Athlete club Athlete country  Athlete year of birth  \\\n",
       "2539945      *Normandy Park, WA             USA                 1991.0   \n",
       "2539946           *Gold Bar, WA             USA                 1981.0   \n",
       "2539947             *Vashon, WA             USA                 1999.0   \n",
       "2539948         *Gig Harbor, WA             USA                 1983.0   \n",
       "2539949  *Bainbridge Island, WA             USA                 1977.0   \n",
       "\n",
       "        Athlete gender Athlete age category Athlete average speed  Athlete ID  \n",
       "2539945              M                  M23                15.158       71287  \n",
       "2539946              M                  M35                12.369      629508  \n",
       "2539947              M                 MU23                12.099       64838  \n",
       "2539948              M                  M35                11.449      704450  \n",
       "2539949              M                  M40                11.212      810281  "
      ]
     },
     "execution_count": 8,
     "metadata": {},
     "output_type": "execute_result"
    }
   ],
   "source": [
    "subset.head()"
   ]
  },
  {
   "cell_type": "markdown",
   "id": "31fae277-1d20-4566-b148-83d07668aaba",
   "metadata": {},
   "source": [
    "# Creation of a Athlete age column"
   ]
  },
  {
   "cell_type": "code",
   "execution_count": 9,
   "id": "ec71a31b-057f-4b01-ad75-e96229718a0f",
   "metadata": {},
   "outputs": [],
   "source": [
    "subset['Athlete age'] = 2020 - subset['Athlete year of birth']"
   ]
  },
  {
   "cell_type": "markdown",
   "id": "81f1fb3a-9ec7-4c14-a817-2b0453dea531",
   "metadata": {},
   "source": [
    "# Removing 'h' from a Athlete performance column"
   ]
  },
  {
   "cell_type": "code",
   "execution_count": 10,
   "id": "6e6993f8-e333-46dd-a9e8-8d3e69c5fae3",
   "metadata": {},
   "outputs": [],
   "source": [
    "subset['Athlete performance'] = subset['Athlete performance'].apply(lambda x: x[:-2:])"
   ]
  },
  {
   "cell_type": "code",
   "execution_count": 11,
   "id": "54ed0cc5-69b9-4d35-9267-14e2c099ce89",
   "metadata": {},
   "outputs": [
    {
     "data": {
      "text/plain": [
       "2539945    3:17:55\n",
       "2539946    4:02:32\n",
       "2539947    4:07:57\n",
       "2539948    4:22:02\n",
       "2539949    4:27:34\n",
       "Name: Athlete performance, dtype: object"
      ]
     },
     "execution_count": 11,
     "metadata": {},
     "output_type": "execute_result"
    }
   ],
   "source": [
    "subset['Athlete performance'].head()"
   ]
  },
  {
   "cell_type": "markdown",
   "id": "b9f4bcb8-088b-468b-bf47-fbdfcebf0a81",
   "metadata": {},
   "source": [
    "# Creation of a Event country column"
   ]
  },
  {
   "cell_type": "code",
   "execution_count": 12,
   "id": "a1eae245-0694-4ab3-8a6b-07fb67bb183e",
   "metadata": {},
   "outputs": [],
   "source": [
    "subset['Event country'] = subset['Event name'].apply(lambda x: x[-4:-1:])"
   ]
  },
  {
   "cell_type": "code",
   "execution_count": 13,
   "id": "d3c634fe-431b-4079-8f98-54f05a7c5cc6",
   "metadata": {
    "scrolled": true
   },
   "outputs": [
    {
     "data": {
      "text/plain": [
       "2539945    USA\n",
       "2539946    USA\n",
       "2539947    USA\n",
       "2539948    USA\n",
       "2539949    USA\n",
       "Name: Event country, dtype: object"
      ]
     },
     "execution_count": 13,
     "metadata": {},
     "output_type": "execute_result"
    }
   ],
   "source": [
    "subset['Event country'].head()"
   ]
  },
  {
   "cell_type": "markdown",
   "id": "7b335b9f-03a1-4cab-a84b-64f1653ff98f",
   "metadata": {},
   "source": [
    "# Creation of a Event name column"
   ]
  },
  {
   "cell_type": "code",
   "execution_count": 14,
   "id": "5d336230-eef8-409d-9ee0-c3e52aff77ec",
   "metadata": {},
   "outputs": [],
   "source": [
    "subset['Event name'] = subset['Event name'].apply(lambda x: x[:-5:])"
   ]
  },
  {
   "cell_type": "code",
   "execution_count": 15,
   "id": "5d4bfd4d-2fe8-424d-9fb4-8d2d8b82361f",
   "metadata": {
    "scrolled": true
   },
   "outputs": [
    {
     "data": {
      "text/html": [
       "<div>\n",
       "<style scoped>\n",
       "    .dataframe tbody tr th:only-of-type {\n",
       "        vertical-align: middle;\n",
       "    }\n",
       "\n",
       "    .dataframe tbody tr th {\n",
       "        vertical-align: top;\n",
       "    }\n",
       "\n",
       "    .dataframe thead th {\n",
       "        text-align: right;\n",
       "    }\n",
       "</style>\n",
       "<table border=\"1\" class=\"dataframe\">\n",
       "  <thead>\n",
       "    <tr style=\"text-align: right;\">\n",
       "      <th></th>\n",
       "      <th>Year of event</th>\n",
       "      <th>Event dates</th>\n",
       "      <th>Event name</th>\n",
       "      <th>Event distance/length</th>\n",
       "      <th>Event number of finishers</th>\n",
       "      <th>Athlete performance</th>\n",
       "      <th>Athlete club</th>\n",
       "      <th>Athlete country</th>\n",
       "      <th>Athlete year of birth</th>\n",
       "      <th>Athlete gender</th>\n",
       "      <th>Athlete age category</th>\n",
       "      <th>Athlete average speed</th>\n",
       "      <th>Athlete ID</th>\n",
       "      <th>Athlete age</th>\n",
       "      <th>Event country</th>\n",
       "    </tr>\n",
       "  </thead>\n",
       "  <tbody>\n",
       "    <tr>\n",
       "      <th>2539945</th>\n",
       "      <td>2020</td>\n",
       "      <td>02.02.2020</td>\n",
       "      <td>West Seattle Beach Run - Winter Edition</td>\n",
       "      <td>50km</td>\n",
       "      <td>20</td>\n",
       "      <td>3:17:55</td>\n",
       "      <td>*Normandy Park, WA</td>\n",
       "      <td>USA</td>\n",
       "      <td>1991.0</td>\n",
       "      <td>M</td>\n",
       "      <td>M23</td>\n",
       "      <td>15.158</td>\n",
       "      <td>71287</td>\n",
       "      <td>29.0</td>\n",
       "      <td>USA</td>\n",
       "    </tr>\n",
       "    <tr>\n",
       "      <th>2539946</th>\n",
       "      <td>2020</td>\n",
       "      <td>02.02.2020</td>\n",
       "      <td>West Seattle Beach Run - Winter Edition</td>\n",
       "      <td>50km</td>\n",
       "      <td>20</td>\n",
       "      <td>4:02:32</td>\n",
       "      <td>*Gold Bar, WA</td>\n",
       "      <td>USA</td>\n",
       "      <td>1981.0</td>\n",
       "      <td>M</td>\n",
       "      <td>M35</td>\n",
       "      <td>12.369</td>\n",
       "      <td>629508</td>\n",
       "      <td>39.0</td>\n",
       "      <td>USA</td>\n",
       "    </tr>\n",
       "    <tr>\n",
       "      <th>2539947</th>\n",
       "      <td>2020</td>\n",
       "      <td>02.02.2020</td>\n",
       "      <td>West Seattle Beach Run - Winter Edition</td>\n",
       "      <td>50km</td>\n",
       "      <td>20</td>\n",
       "      <td>4:07:57</td>\n",
       "      <td>*Vashon, WA</td>\n",
       "      <td>USA</td>\n",
       "      <td>1999.0</td>\n",
       "      <td>M</td>\n",
       "      <td>MU23</td>\n",
       "      <td>12.099</td>\n",
       "      <td>64838</td>\n",
       "      <td>21.0</td>\n",
       "      <td>USA</td>\n",
       "    </tr>\n",
       "    <tr>\n",
       "      <th>2539948</th>\n",
       "      <td>2020</td>\n",
       "      <td>02.02.2020</td>\n",
       "      <td>West Seattle Beach Run - Winter Edition</td>\n",
       "      <td>50km</td>\n",
       "      <td>20</td>\n",
       "      <td>4:22:02</td>\n",
       "      <td>*Gig Harbor, WA</td>\n",
       "      <td>USA</td>\n",
       "      <td>1983.0</td>\n",
       "      <td>M</td>\n",
       "      <td>M35</td>\n",
       "      <td>11.449</td>\n",
       "      <td>704450</td>\n",
       "      <td>37.0</td>\n",
       "      <td>USA</td>\n",
       "    </tr>\n",
       "    <tr>\n",
       "      <th>2539949</th>\n",
       "      <td>2020</td>\n",
       "      <td>02.02.2020</td>\n",
       "      <td>West Seattle Beach Run - Winter Edition</td>\n",
       "      <td>50km</td>\n",
       "      <td>20</td>\n",
       "      <td>4:27:34</td>\n",
       "      <td>*Bainbridge Island, WA</td>\n",
       "      <td>USA</td>\n",
       "      <td>1977.0</td>\n",
       "      <td>M</td>\n",
       "      <td>M40</td>\n",
       "      <td>11.212</td>\n",
       "      <td>810281</td>\n",
       "      <td>43.0</td>\n",
       "      <td>USA</td>\n",
       "    </tr>\n",
       "  </tbody>\n",
       "</table>\n",
       "</div>"
      ],
      "text/plain": [
       "         Year of event Event dates                                Event name  \\\n",
       "2539945           2020  02.02.2020  West Seattle Beach Run - Winter Edition    \n",
       "2539946           2020  02.02.2020  West Seattle Beach Run - Winter Edition    \n",
       "2539947           2020  02.02.2020  West Seattle Beach Run - Winter Edition    \n",
       "2539948           2020  02.02.2020  West Seattle Beach Run - Winter Edition    \n",
       "2539949           2020  02.02.2020  West Seattle Beach Run - Winter Edition    \n",
       "\n",
       "        Event distance/length  Event number of finishers Athlete performance  \\\n",
       "2539945                  50km                         20             3:17:55   \n",
       "2539946                  50km                         20             4:02:32   \n",
       "2539947                  50km                         20             4:07:57   \n",
       "2539948                  50km                         20             4:22:02   \n",
       "2539949                  50km                         20             4:27:34   \n",
       "\n",
       "                   Athlete club Athlete country  Athlete year of birth  \\\n",
       "2539945      *Normandy Park, WA             USA                 1991.0   \n",
       "2539946           *Gold Bar, WA             USA                 1981.0   \n",
       "2539947             *Vashon, WA             USA                 1999.0   \n",
       "2539948         *Gig Harbor, WA             USA                 1983.0   \n",
       "2539949  *Bainbridge Island, WA             USA                 1977.0   \n",
       "\n",
       "        Athlete gender Athlete age category Athlete average speed  Athlete ID  \\\n",
       "2539945              M                  M23                15.158       71287   \n",
       "2539946              M                  M35                12.369      629508   \n",
       "2539947              M                 MU23                12.099       64838   \n",
       "2539948              M                  M35                11.449      704450   \n",
       "2539949              M                  M40                11.212      810281   \n",
       "\n",
       "         Athlete age Event country  \n",
       "2539945         29.0           USA  \n",
       "2539946         39.0           USA  \n",
       "2539947         21.0           USA  \n",
       "2539948         37.0           USA  \n",
       "2539949         43.0           USA  "
      ]
     },
     "execution_count": 15,
     "metadata": {},
     "output_type": "execute_result"
    }
   ],
   "source": [
    "subset.head()"
   ]
  },
  {
   "cell_type": "markdown",
   "id": "98c057c1-8148-458b-89c5-57ca86eda092",
   "metadata": {},
   "source": [
    "# Creation of a Event month column"
   ]
  },
  {
   "cell_type": "code",
   "execution_count": 16,
   "id": "0d99e4b7-ba02-4356-a7fc-e4186cc234a0",
   "metadata": {},
   "outputs": [],
   "source": [
    "subset['Event month'] = subset['Event dates'].apply(lambda x: int(x[-7:-5]))"
   ]
  },
  {
   "cell_type": "code",
   "execution_count": 17,
   "id": "af655eb7-ab03-4ef1-ae14-d64dfcf74655",
   "metadata": {
    "scrolled": true
   },
   "outputs": [
    {
     "data": {
      "text/html": [
       "<div>\n",
       "<style scoped>\n",
       "    .dataframe tbody tr th:only-of-type {\n",
       "        vertical-align: middle;\n",
       "    }\n",
       "\n",
       "    .dataframe tbody tr th {\n",
       "        vertical-align: top;\n",
       "    }\n",
       "\n",
       "    .dataframe thead th {\n",
       "        text-align: right;\n",
       "    }\n",
       "</style>\n",
       "<table border=\"1\" class=\"dataframe\">\n",
       "  <thead>\n",
       "    <tr style=\"text-align: right;\">\n",
       "      <th></th>\n",
       "      <th>Year of event</th>\n",
       "      <th>Event dates</th>\n",
       "      <th>Event name</th>\n",
       "      <th>Event distance/length</th>\n",
       "      <th>Event number of finishers</th>\n",
       "      <th>Athlete performance</th>\n",
       "      <th>Athlete club</th>\n",
       "      <th>Athlete country</th>\n",
       "      <th>Athlete year of birth</th>\n",
       "      <th>Athlete gender</th>\n",
       "      <th>Athlete age category</th>\n",
       "      <th>Athlete average speed</th>\n",
       "      <th>Athlete ID</th>\n",
       "      <th>Athlete age</th>\n",
       "      <th>Event country</th>\n",
       "      <th>Event month</th>\n",
       "    </tr>\n",
       "  </thead>\n",
       "  <tbody>\n",
       "    <tr>\n",
       "      <th>2539945</th>\n",
       "      <td>2020</td>\n",
       "      <td>02.02.2020</td>\n",
       "      <td>West Seattle Beach Run - Winter Edition</td>\n",
       "      <td>50km</td>\n",
       "      <td>20</td>\n",
       "      <td>3:17:55</td>\n",
       "      <td>*Normandy Park, WA</td>\n",
       "      <td>USA</td>\n",
       "      <td>1991.0</td>\n",
       "      <td>M</td>\n",
       "      <td>M23</td>\n",
       "      <td>15.158</td>\n",
       "      <td>71287</td>\n",
       "      <td>29.0</td>\n",
       "      <td>USA</td>\n",
       "      <td>2</td>\n",
       "    </tr>\n",
       "    <tr>\n",
       "      <th>2539946</th>\n",
       "      <td>2020</td>\n",
       "      <td>02.02.2020</td>\n",
       "      <td>West Seattle Beach Run - Winter Edition</td>\n",
       "      <td>50km</td>\n",
       "      <td>20</td>\n",
       "      <td>4:02:32</td>\n",
       "      <td>*Gold Bar, WA</td>\n",
       "      <td>USA</td>\n",
       "      <td>1981.0</td>\n",
       "      <td>M</td>\n",
       "      <td>M35</td>\n",
       "      <td>12.369</td>\n",
       "      <td>629508</td>\n",
       "      <td>39.0</td>\n",
       "      <td>USA</td>\n",
       "      <td>2</td>\n",
       "    </tr>\n",
       "    <tr>\n",
       "      <th>2539947</th>\n",
       "      <td>2020</td>\n",
       "      <td>02.02.2020</td>\n",
       "      <td>West Seattle Beach Run - Winter Edition</td>\n",
       "      <td>50km</td>\n",
       "      <td>20</td>\n",
       "      <td>4:07:57</td>\n",
       "      <td>*Vashon, WA</td>\n",
       "      <td>USA</td>\n",
       "      <td>1999.0</td>\n",
       "      <td>M</td>\n",
       "      <td>MU23</td>\n",
       "      <td>12.099</td>\n",
       "      <td>64838</td>\n",
       "      <td>21.0</td>\n",
       "      <td>USA</td>\n",
       "      <td>2</td>\n",
       "    </tr>\n",
       "    <tr>\n",
       "      <th>2539948</th>\n",
       "      <td>2020</td>\n",
       "      <td>02.02.2020</td>\n",
       "      <td>West Seattle Beach Run - Winter Edition</td>\n",
       "      <td>50km</td>\n",
       "      <td>20</td>\n",
       "      <td>4:22:02</td>\n",
       "      <td>*Gig Harbor, WA</td>\n",
       "      <td>USA</td>\n",
       "      <td>1983.0</td>\n",
       "      <td>M</td>\n",
       "      <td>M35</td>\n",
       "      <td>11.449</td>\n",
       "      <td>704450</td>\n",
       "      <td>37.0</td>\n",
       "      <td>USA</td>\n",
       "      <td>2</td>\n",
       "    </tr>\n",
       "    <tr>\n",
       "      <th>2539949</th>\n",
       "      <td>2020</td>\n",
       "      <td>02.02.2020</td>\n",
       "      <td>West Seattle Beach Run - Winter Edition</td>\n",
       "      <td>50km</td>\n",
       "      <td>20</td>\n",
       "      <td>4:27:34</td>\n",
       "      <td>*Bainbridge Island, WA</td>\n",
       "      <td>USA</td>\n",
       "      <td>1977.0</td>\n",
       "      <td>M</td>\n",
       "      <td>M40</td>\n",
       "      <td>11.212</td>\n",
       "      <td>810281</td>\n",
       "      <td>43.0</td>\n",
       "      <td>USA</td>\n",
       "      <td>2</td>\n",
       "    </tr>\n",
       "  </tbody>\n",
       "</table>\n",
       "</div>"
      ],
      "text/plain": [
       "         Year of event Event dates                                Event name  \\\n",
       "2539945           2020  02.02.2020  West Seattle Beach Run - Winter Edition    \n",
       "2539946           2020  02.02.2020  West Seattle Beach Run - Winter Edition    \n",
       "2539947           2020  02.02.2020  West Seattle Beach Run - Winter Edition    \n",
       "2539948           2020  02.02.2020  West Seattle Beach Run - Winter Edition    \n",
       "2539949           2020  02.02.2020  West Seattle Beach Run - Winter Edition    \n",
       "\n",
       "        Event distance/length  Event number of finishers Athlete performance  \\\n",
       "2539945                  50km                         20             3:17:55   \n",
       "2539946                  50km                         20             4:02:32   \n",
       "2539947                  50km                         20             4:07:57   \n",
       "2539948                  50km                         20             4:22:02   \n",
       "2539949                  50km                         20             4:27:34   \n",
       "\n",
       "                   Athlete club Athlete country  Athlete year of birth  \\\n",
       "2539945      *Normandy Park, WA             USA                 1991.0   \n",
       "2539946           *Gold Bar, WA             USA                 1981.0   \n",
       "2539947             *Vashon, WA             USA                 1999.0   \n",
       "2539948         *Gig Harbor, WA             USA                 1983.0   \n",
       "2539949  *Bainbridge Island, WA             USA                 1977.0   \n",
       "\n",
       "        Athlete gender Athlete age category Athlete average speed  Athlete ID  \\\n",
       "2539945              M                  M23                15.158       71287   \n",
       "2539946              M                  M35                12.369      629508   \n",
       "2539947              M                 MU23                12.099       64838   \n",
       "2539948              M                  M35                11.449      704450   \n",
       "2539949              M                  M40                11.212      810281   \n",
       "\n",
       "         Athlete age Event country  Event month  \n",
       "2539945         29.0           USA            2  \n",
       "2539946         39.0           USA            2  \n",
       "2539947         21.0           USA            2  \n",
       "2539948         37.0           USA            2  \n",
       "2539949         43.0           USA            2  "
      ]
     },
     "execution_count": 17,
     "metadata": {},
     "output_type": "execute_result"
    }
   ],
   "source": [
    "subset.head()"
   ]
  },
  {
   "cell_type": "markdown",
   "id": "91252d5b-44cf-49aa-8f46-e7028fc38cd1",
   "metadata": {},
   "source": [
    "# Checking for the existence of a null value"
   ]
  },
  {
   "cell_type": "code",
   "execution_count": 18,
   "id": "52e0ba14-e45a-4745-85c3-3f6340c7b3c3",
   "metadata": {},
   "outputs": [
    {
     "data": {
      "text/plain": [
       "Year of event                   0\n",
       "Event dates                     0\n",
       "Event name                      0\n",
       "Event distance/length           0\n",
       "Event number of finishers       0\n",
       "Athlete performance             0\n",
       "Athlete club                 3130\n",
       "Athlete country                 0\n",
       "Athlete year of birth         235\n",
       "Athlete gender                  0\n",
       "Athlete age category          218\n",
       "Athlete average speed           0\n",
       "Athlete ID                      0\n",
       "Athlete age                   235\n",
       "Event country                   0\n",
       "Event month                     0\n",
       "dtype: int64"
      ]
     },
     "execution_count": 18,
     "metadata": {},
     "output_type": "execute_result"
    }
   ],
   "source": [
    "subset.isna().sum()"
   ]
  },
  {
   "cell_type": "markdown",
   "id": "87b3c7c9-a932-4925-b6ec-98abfa9536f1",
   "metadata": {},
   "source": [
    "# Dropping Athlete club and Athlete age category"
   ]
  },
  {
   "cell_type": "code",
   "execution_count": 19,
   "id": "0192e5a2-041d-4a44-b81b-153cf8583ec0",
   "metadata": {},
   "outputs": [],
   "source": [
    "subset = subset.drop(['Athlete club', 'Athlete age category'], axis=1)"
   ]
  },
  {
   "cell_type": "code",
   "execution_count": 20,
   "id": "62afae56-9b8d-4267-832d-c1064a369ecf",
   "metadata": {
    "scrolled": true
   },
   "outputs": [],
   "source": [
    "subset = subset.dropna()"
   ]
  },
  {
   "cell_type": "markdown",
   "id": "d9fcbed4-7d8a-45d2-ad16-93a4de5f52c1",
   "metadata": {},
   "source": [
    "# Checking for the existence of a duplicated values"
   ]
  },
  {
   "cell_type": "code",
   "execution_count": 21,
   "id": "2e74814c-82de-4c39-b080-7cd8fd9f416e",
   "metadata": {},
   "outputs": [
    {
     "data": {
      "text/plain": [
       "0"
      ]
     },
     "execution_count": 21,
     "metadata": {},
     "output_type": "execute_result"
    }
   ],
   "source": [
    "subset.duplicated().sum()"
   ]
  },
  {
   "cell_type": "markdown",
   "id": "66bfe683-3869-468d-9958-3f2813d2582e",
   "metadata": {},
   "source": [
    "# Resetting indices"
   ]
  },
  {
   "cell_type": "code",
   "execution_count": 22,
   "id": "c3573c2d-2f5a-4a4a-85e2-e09f1782563d",
   "metadata": {
    "scrolled": true
   },
   "outputs": [],
   "source": [
    "subset = subset.reset_index(drop=True)"
   ]
  },
  {
   "cell_type": "markdown",
   "id": "b82742e4-b490-4750-8b51-009284cb3d4b",
   "metadata": {},
   "source": [
    "# Fixing types"
   ]
  },
  {
   "cell_type": "code",
   "execution_count": 23,
   "id": "0fd024ca-cb30-44c2-937c-f9fbd784954b",
   "metadata": {},
   "outputs": [],
   "source": [
    "subset['Athlete age'] = subset['Athlete age'].astype(int)"
   ]
  },
  {
   "cell_type": "code",
   "execution_count": 24,
   "id": "ea17d86e-3cf9-4689-8e01-5af3b4f484fb",
   "metadata": {},
   "outputs": [],
   "source": [
    "subset['Athlete average speed'] = subset['Athlete average speed'].astype(float)"
   ]
  },
  {
   "cell_type": "markdown",
   "id": "12a0932c-27d3-4de7-b6c0-5e7b0e3ae9fd",
   "metadata": {},
   "source": [
    "# Renaming columns"
   ]
  },
  {
   "cell_type": "code",
   "execution_count": 25,
   "id": "38f06ba9-4a3d-4ae2-86a8-097a4bab6d0e",
   "metadata": {},
   "outputs": [],
   "source": [
    "subset = subset.rename(columns={\n",
    "    'Year of event' : 'marathon_year',\n",
    "    'Event dates' : 'marathon_day',\n",
    "    'Event name' : 'marathon_name',\n",
    "    'Event distance/length' : 'marathon_distance',\n",
    "    'Event number of finishers' : 'marathon_number_of_finishers',\n",
    "    'Athlete performance' : 'athlete_perfoemance',\n",
    "    'Athlete country' : 'athlete_country',\n",
    "    'Athlete year of birth' : 'athlete_year_of_birth',\n",
    "    'Athlete gender' : 'athlete_gender',\n",
    "    'Athlete average speed' : 'athlete_avg_speed',\n",
    "    'Athlete ID' : 'athlete_id',\n",
    "    'Athlete age' : 'athlete_age',\n",
    "    'Event country' : 'marathon_country',\n",
    "    'Event month' : 'marathon_month'\n",
    "})"
   ]
  },
  {
   "cell_type": "code",
   "execution_count": 26,
   "id": "aa0a18ad-3e62-4ae3-8bfe-103e1f4bff4f",
   "metadata": {},
   "outputs": [
    {
     "data": {
      "text/plain": [
       "Index(['marathon_year', 'marathon_day', 'marathon_name', 'marathon_distance',\n",
       "       'marathon_number_of_finishers', 'athlete_perfoemance',\n",
       "       'athlete_country', 'athlete_year_of_birth', 'athlete_gender',\n",
       "       'athlete_avg_speed', 'athlete_id', 'athlete_age', 'marathon_country',\n",
       "       'marathon_month'],\n",
       "      dtype='object')"
      ]
     },
     "execution_count": 26,
     "metadata": {},
     "output_type": "execute_result"
    }
   ],
   "source": [
    "subset.columns"
   ]
  },
  {
   "cell_type": "markdown",
   "id": "13a4c513-76fc-404d-ab6e-8ab93f97c393",
   "metadata": {},
   "source": [
    "# Reordering columns"
   ]
  },
  {
   "cell_type": "code",
   "execution_count": 27,
   "id": "6170b651-45cf-4859-9f1d-2c83b3f1e8b8",
   "metadata": {},
   "outputs": [],
   "source": [
    "usa_2020_marathons_50 = subset[['marathon_name', 'marathon_distance', 'marathon_year', 'marathon_month', 'marathon_day', 'marathon_country', 'marathon_number_of_finishers', 'athlete_id', 'athlete_country', 'athlete_age', 'athlete_gender', 'athlete_year_of_birth', 'athlete_avg_speed', 'athlete_perfoemance',]]\n"
   ]
  },
  {
   "cell_type": "code",
   "execution_count": 28,
   "id": "7051f3c2-dd8e-4965-8310-237983c160ae",
   "metadata": {},
   "outputs": [
    {
     "data": {
      "text/html": [
       "<div>\n",
       "<style scoped>\n",
       "    .dataframe tbody tr th:only-of-type {\n",
       "        vertical-align: middle;\n",
       "    }\n",
       "\n",
       "    .dataframe tbody tr th {\n",
       "        vertical-align: top;\n",
       "    }\n",
       "\n",
       "    .dataframe thead th {\n",
       "        text-align: right;\n",
       "    }\n",
       "</style>\n",
       "<table border=\"1\" class=\"dataframe\">\n",
       "  <thead>\n",
       "    <tr style=\"text-align: right;\">\n",
       "      <th></th>\n",
       "      <th>marathon_name</th>\n",
       "      <th>marathon_distance</th>\n",
       "      <th>marathon_year</th>\n",
       "      <th>marathon_month</th>\n",
       "      <th>marathon_day</th>\n",
       "      <th>marathon_country</th>\n",
       "      <th>marathon_number_of_finishers</th>\n",
       "      <th>athlete_id</th>\n",
       "      <th>athlete_country</th>\n",
       "      <th>athlete_age</th>\n",
       "      <th>athlete_gender</th>\n",
       "      <th>athlete_year_of_birth</th>\n",
       "      <th>athlete_avg_speed</th>\n",
       "      <th>athlete_perfoemance</th>\n",
       "    </tr>\n",
       "  </thead>\n",
       "  <tbody>\n",
       "    <tr>\n",
       "      <th>0</th>\n",
       "      <td>West Seattle Beach Run - Winter Edition</td>\n",
       "      <td>50km</td>\n",
       "      <td>2020</td>\n",
       "      <td>2</td>\n",
       "      <td>02.02.2020</td>\n",
       "      <td>USA</td>\n",
       "      <td>20</td>\n",
       "      <td>71287</td>\n",
       "      <td>USA</td>\n",
       "      <td>29</td>\n",
       "      <td>M</td>\n",
       "      <td>1991.0</td>\n",
       "      <td>15.158</td>\n",
       "      <td>3:17:55</td>\n",
       "    </tr>\n",
       "    <tr>\n",
       "      <th>1</th>\n",
       "      <td>West Seattle Beach Run - Winter Edition</td>\n",
       "      <td>50km</td>\n",
       "      <td>2020</td>\n",
       "      <td>2</td>\n",
       "      <td>02.02.2020</td>\n",
       "      <td>USA</td>\n",
       "      <td>20</td>\n",
       "      <td>629508</td>\n",
       "      <td>USA</td>\n",
       "      <td>39</td>\n",
       "      <td>M</td>\n",
       "      <td>1981.0</td>\n",
       "      <td>12.369</td>\n",
       "      <td>4:02:32</td>\n",
       "    </tr>\n",
       "    <tr>\n",
       "      <th>2</th>\n",
       "      <td>West Seattle Beach Run - Winter Edition</td>\n",
       "      <td>50km</td>\n",
       "      <td>2020</td>\n",
       "      <td>2</td>\n",
       "      <td>02.02.2020</td>\n",
       "      <td>USA</td>\n",
       "      <td>20</td>\n",
       "      <td>64838</td>\n",
       "      <td>USA</td>\n",
       "      <td>21</td>\n",
       "      <td>M</td>\n",
       "      <td>1999.0</td>\n",
       "      <td>12.099</td>\n",
       "      <td>4:07:57</td>\n",
       "    </tr>\n",
       "    <tr>\n",
       "      <th>3</th>\n",
       "      <td>West Seattle Beach Run - Winter Edition</td>\n",
       "      <td>50km</td>\n",
       "      <td>2020</td>\n",
       "      <td>2</td>\n",
       "      <td>02.02.2020</td>\n",
       "      <td>USA</td>\n",
       "      <td>20</td>\n",
       "      <td>704450</td>\n",
       "      <td>USA</td>\n",
       "      <td>37</td>\n",
       "      <td>M</td>\n",
       "      <td>1983.0</td>\n",
       "      <td>11.449</td>\n",
       "      <td>4:22:02</td>\n",
       "    </tr>\n",
       "    <tr>\n",
       "      <th>4</th>\n",
       "      <td>West Seattle Beach Run - Winter Edition</td>\n",
       "      <td>50km</td>\n",
       "      <td>2020</td>\n",
       "      <td>2</td>\n",
       "      <td>02.02.2020</td>\n",
       "      <td>USA</td>\n",
       "      <td>20</td>\n",
       "      <td>810281</td>\n",
       "      <td>USA</td>\n",
       "      <td>43</td>\n",
       "      <td>M</td>\n",
       "      <td>1977.0</td>\n",
       "      <td>11.212</td>\n",
       "      <td>4:27:34</td>\n",
       "    </tr>\n",
       "    <tr>\n",
       "      <th>...</th>\n",
       "      <td>...</td>\n",
       "      <td>...</td>\n",
       "      <td>...</td>\n",
       "      <td>...</td>\n",
       "      <td>...</td>\n",
       "      <td>...</td>\n",
       "      <td>...</td>\n",
       "      <td>...</td>\n",
       "      <td>...</td>\n",
       "      <td>...</td>\n",
       "      <td>...</td>\n",
       "      <td>...</td>\n",
       "      <td>...</td>\n",
       "      <td>...</td>\n",
       "    </tr>\n",
       "    <tr>\n",
       "      <th>26284</th>\n",
       "      <td>Yankee Springs Fall Trail Run Festival</td>\n",
       "      <td>50km</td>\n",
       "      <td>2020</td>\n",
       "      <td>10</td>\n",
       "      <td>03.10.2020</td>\n",
       "      <td>USA</td>\n",
       "      <td>30</td>\n",
       "      <td>816361</td>\n",
       "      <td>USA</td>\n",
       "      <td>62</td>\n",
       "      <td>F</td>\n",
       "      <td>1958.0</td>\n",
       "      <td>7.013</td>\n",
       "      <td>7:07:48</td>\n",
       "    </tr>\n",
       "    <tr>\n",
       "      <th>26285</th>\n",
       "      <td>Yankee Springs Fall Trail Run Festival</td>\n",
       "      <td>50km</td>\n",
       "      <td>2020</td>\n",
       "      <td>10</td>\n",
       "      <td>03.10.2020</td>\n",
       "      <td>USA</td>\n",
       "      <td>30</td>\n",
       "      <td>326469</td>\n",
       "      <td>USA</td>\n",
       "      <td>43</td>\n",
       "      <td>F</td>\n",
       "      <td>1977.0</td>\n",
       "      <td>6.706</td>\n",
       "      <td>7:27:22</td>\n",
       "    </tr>\n",
       "    <tr>\n",
       "      <th>26286</th>\n",
       "      <td>Yankee Springs Fall Trail Run Festival</td>\n",
       "      <td>50km</td>\n",
       "      <td>2020</td>\n",
       "      <td>10</td>\n",
       "      <td>03.10.2020</td>\n",
       "      <td>USA</td>\n",
       "      <td>30</td>\n",
       "      <td>372174</td>\n",
       "      <td>USA</td>\n",
       "      <td>58</td>\n",
       "      <td>F</td>\n",
       "      <td>1962.0</td>\n",
       "      <td>6.705</td>\n",
       "      <td>7:27:24</td>\n",
       "    </tr>\n",
       "    <tr>\n",
       "      <th>26287</th>\n",
       "      <td>Yankee Springs Fall Trail Run Festival</td>\n",
       "      <td>50km</td>\n",
       "      <td>2020</td>\n",
       "      <td>10</td>\n",
       "      <td>03.10.2020</td>\n",
       "      <td>USA</td>\n",
       "      <td>30</td>\n",
       "      <td>860349</td>\n",
       "      <td>USA</td>\n",
       "      <td>39</td>\n",
       "      <td>F</td>\n",
       "      <td>1981.0</td>\n",
       "      <td>6.543</td>\n",
       "      <td>7:38:30</td>\n",
       "    </tr>\n",
       "    <tr>\n",
       "      <th>26288</th>\n",
       "      <td>Yankee Springs Fall Trail Run Festival</td>\n",
       "      <td>50km</td>\n",
       "      <td>2020</td>\n",
       "      <td>10</td>\n",
       "      <td>03.10.2020</td>\n",
       "      <td>USA</td>\n",
       "      <td>30</td>\n",
       "      <td>770097</td>\n",
       "      <td>USA</td>\n",
       "      <td>40</td>\n",
       "      <td>M</td>\n",
       "      <td>1980.0</td>\n",
       "      <td>6.252</td>\n",
       "      <td>7:59:53</td>\n",
       "    </tr>\n",
       "  </tbody>\n",
       "</table>\n",
       "<p>26289 rows × 14 columns</p>\n",
       "</div>"
      ],
      "text/plain": [
       "                                  marathon_name marathon_distance  \\\n",
       "0      West Seattle Beach Run - Winter Edition               50km   \n",
       "1      West Seattle Beach Run - Winter Edition               50km   \n",
       "2      West Seattle Beach Run - Winter Edition               50km   \n",
       "3      West Seattle Beach Run - Winter Edition               50km   \n",
       "4      West Seattle Beach Run - Winter Edition               50km   \n",
       "...                                         ...               ...   \n",
       "26284   Yankee Springs Fall Trail Run Festival               50km   \n",
       "26285   Yankee Springs Fall Trail Run Festival               50km   \n",
       "26286   Yankee Springs Fall Trail Run Festival               50km   \n",
       "26287   Yankee Springs Fall Trail Run Festival               50km   \n",
       "26288   Yankee Springs Fall Trail Run Festival               50km   \n",
       "\n",
       "       marathon_year  marathon_month marathon_day marathon_country  \\\n",
       "0               2020               2   02.02.2020              USA   \n",
       "1               2020               2   02.02.2020              USA   \n",
       "2               2020               2   02.02.2020              USA   \n",
       "3               2020               2   02.02.2020              USA   \n",
       "4               2020               2   02.02.2020              USA   \n",
       "...              ...             ...          ...              ...   \n",
       "26284           2020              10   03.10.2020              USA   \n",
       "26285           2020              10   03.10.2020              USA   \n",
       "26286           2020              10   03.10.2020              USA   \n",
       "26287           2020              10   03.10.2020              USA   \n",
       "26288           2020              10   03.10.2020              USA   \n",
       "\n",
       "       marathon_number_of_finishers  athlete_id athlete_country  athlete_age  \\\n",
       "0                                20       71287             USA           29   \n",
       "1                                20      629508             USA           39   \n",
       "2                                20       64838             USA           21   \n",
       "3                                20      704450             USA           37   \n",
       "4                                20      810281             USA           43   \n",
       "...                             ...         ...             ...          ...   \n",
       "26284                            30      816361             USA           62   \n",
       "26285                            30      326469             USA           43   \n",
       "26286                            30      372174             USA           58   \n",
       "26287                            30      860349             USA           39   \n",
       "26288                            30      770097             USA           40   \n",
       "\n",
       "      athlete_gender  athlete_year_of_birth  athlete_avg_speed  \\\n",
       "0                  M                 1991.0             15.158   \n",
       "1                  M                 1981.0             12.369   \n",
       "2                  M                 1999.0             12.099   \n",
       "3                  M                 1983.0             11.449   \n",
       "4                  M                 1977.0             11.212   \n",
       "...              ...                    ...                ...   \n",
       "26284              F                 1958.0              7.013   \n",
       "26285              F                 1977.0              6.706   \n",
       "26286              F                 1962.0              6.705   \n",
       "26287              F                 1981.0              6.543   \n",
       "26288              M                 1980.0              6.252   \n",
       "\n",
       "      athlete_perfoemance  \n",
       "0                 3:17:55  \n",
       "1                 4:02:32  \n",
       "2                 4:07:57  \n",
       "3                 4:22:02  \n",
       "4                 4:27:34  \n",
       "...                   ...  \n",
       "26284             7:07:48  \n",
       "26285             7:27:22  \n",
       "26286             7:27:24  \n",
       "26287             7:38:30  \n",
       "26288             7:59:53  \n",
       "\n",
       "[26289 rows x 14 columns]"
      ]
     },
     "execution_count": 28,
     "metadata": {},
     "output_type": "execute_result"
    }
   ],
   "source": [
    "usa_2020_marathons_50.sort_index()"
   ]
  },
  {
   "cell_type": "code",
   "execution_count": 29,
   "id": "048d7976-7b25-406c-899d-d2c2db16eb20",
   "metadata": {},
   "outputs": [
    {
     "data": {
      "text/html": [
       "<div>\n",
       "<style scoped>\n",
       "    .dataframe tbody tr th:only-of-type {\n",
       "        vertical-align: middle;\n",
       "    }\n",
       "\n",
       "    .dataframe tbody tr th {\n",
       "        vertical-align: top;\n",
       "    }\n",
       "\n",
       "    .dataframe thead th {\n",
       "        text-align: right;\n",
       "    }\n",
       "</style>\n",
       "<table border=\"1\" class=\"dataframe\">\n",
       "  <thead>\n",
       "    <tr style=\"text-align: right;\">\n",
       "      <th></th>\n",
       "      <th>marathon_name</th>\n",
       "      <th>marathon_distance</th>\n",
       "      <th>marathon_year</th>\n",
       "      <th>marathon_month</th>\n",
       "      <th>marathon_day</th>\n",
       "      <th>marathon_country</th>\n",
       "      <th>marathon_number_of_finishers</th>\n",
       "      <th>athlete_id</th>\n",
       "      <th>athlete_country</th>\n",
       "      <th>athlete_age</th>\n",
       "      <th>athlete_gender</th>\n",
       "      <th>athlete_year_of_birth</th>\n",
       "      <th>athlete_avg_speed</th>\n",
       "      <th>athlete_perfoemance</th>\n",
       "    </tr>\n",
       "  </thead>\n",
       "  <tbody>\n",
       "    <tr>\n",
       "      <th>0</th>\n",
       "      <td>West Seattle Beach Run - Winter Edition</td>\n",
       "      <td>50km</td>\n",
       "      <td>2020</td>\n",
       "      <td>2</td>\n",
       "      <td>02.02.2020</td>\n",
       "      <td>USA</td>\n",
       "      <td>20</td>\n",
       "      <td>71287</td>\n",
       "      <td>USA</td>\n",
       "      <td>29</td>\n",
       "      <td>M</td>\n",
       "      <td>1991.0</td>\n",
       "      <td>15.158</td>\n",
       "      <td>3:17:55</td>\n",
       "    </tr>\n",
       "    <tr>\n",
       "      <th>1</th>\n",
       "      <td>West Seattle Beach Run - Winter Edition</td>\n",
       "      <td>50km</td>\n",
       "      <td>2020</td>\n",
       "      <td>2</td>\n",
       "      <td>02.02.2020</td>\n",
       "      <td>USA</td>\n",
       "      <td>20</td>\n",
       "      <td>629508</td>\n",
       "      <td>USA</td>\n",
       "      <td>39</td>\n",
       "      <td>M</td>\n",
       "      <td>1981.0</td>\n",
       "      <td>12.369</td>\n",
       "      <td>4:02:32</td>\n",
       "    </tr>\n",
       "    <tr>\n",
       "      <th>2</th>\n",
       "      <td>West Seattle Beach Run - Winter Edition</td>\n",
       "      <td>50km</td>\n",
       "      <td>2020</td>\n",
       "      <td>2</td>\n",
       "      <td>02.02.2020</td>\n",
       "      <td>USA</td>\n",
       "      <td>20</td>\n",
       "      <td>64838</td>\n",
       "      <td>USA</td>\n",
       "      <td>21</td>\n",
       "      <td>M</td>\n",
       "      <td>1999.0</td>\n",
       "      <td>12.099</td>\n",
       "      <td>4:07:57</td>\n",
       "    </tr>\n",
       "    <tr>\n",
       "      <th>3</th>\n",
       "      <td>West Seattle Beach Run - Winter Edition</td>\n",
       "      <td>50km</td>\n",
       "      <td>2020</td>\n",
       "      <td>2</td>\n",
       "      <td>02.02.2020</td>\n",
       "      <td>USA</td>\n",
       "      <td>20</td>\n",
       "      <td>704450</td>\n",
       "      <td>USA</td>\n",
       "      <td>37</td>\n",
       "      <td>M</td>\n",
       "      <td>1983.0</td>\n",
       "      <td>11.449</td>\n",
       "      <td>4:22:02</td>\n",
       "    </tr>\n",
       "    <tr>\n",
       "      <th>4</th>\n",
       "      <td>West Seattle Beach Run - Winter Edition</td>\n",
       "      <td>50km</td>\n",
       "      <td>2020</td>\n",
       "      <td>2</td>\n",
       "      <td>02.02.2020</td>\n",
       "      <td>USA</td>\n",
       "      <td>20</td>\n",
       "      <td>810281</td>\n",
       "      <td>USA</td>\n",
       "      <td>43</td>\n",
       "      <td>M</td>\n",
       "      <td>1977.0</td>\n",
       "      <td>11.212</td>\n",
       "      <td>4:27:34</td>\n",
       "    </tr>\n",
       "  </tbody>\n",
       "</table>\n",
       "</div>"
      ],
      "text/plain": [
       "                              marathon_name marathon_distance  marathon_year  \\\n",
       "0  West Seattle Beach Run - Winter Edition               50km           2020   \n",
       "1  West Seattle Beach Run - Winter Edition               50km           2020   \n",
       "2  West Seattle Beach Run - Winter Edition               50km           2020   \n",
       "3  West Seattle Beach Run - Winter Edition               50km           2020   \n",
       "4  West Seattle Beach Run - Winter Edition               50km           2020   \n",
       "\n",
       "   marathon_month marathon_day marathon_country  marathon_number_of_finishers  \\\n",
       "0               2   02.02.2020              USA                            20   \n",
       "1               2   02.02.2020              USA                            20   \n",
       "2               2   02.02.2020              USA                            20   \n",
       "3               2   02.02.2020              USA                            20   \n",
       "4               2   02.02.2020              USA                            20   \n",
       "\n",
       "   athlete_id athlete_country  athlete_age athlete_gender  \\\n",
       "0       71287             USA           29              M   \n",
       "1      629508             USA           39              M   \n",
       "2       64838             USA           21              M   \n",
       "3      704450             USA           37              M   \n",
       "4      810281             USA           43              M   \n",
       "\n",
       "   athlete_year_of_birth  athlete_avg_speed athlete_perfoemance  \n",
       "0                 1991.0             15.158             3:17:55  \n",
       "1                 1981.0             12.369             4:02:32  \n",
       "2                 1999.0             12.099             4:07:57  \n",
       "3                 1983.0             11.449             4:22:02  \n",
       "4                 1977.0             11.212             4:27:34  "
      ]
     },
     "execution_count": 29,
     "metadata": {},
     "output_type": "execute_result"
    }
   ],
   "source": [
    "usa_2020_marathons_50.head()"
   ]
  },
  {
   "cell_type": "markdown",
   "id": "bae2d1be-0d27-4f39-8a88-cce6d766d7de",
   "metadata": {},
   "source": [
    "# Ratio of marathon distances"
   ]
  },
  {
   "cell_type": "code",
   "execution_count": 30,
   "id": "e8107667-d577-4bff-ba9c-43850e4a778d",
   "metadata": {},
   "outputs": [
    {
     "data": {
      "text/plain": [
       "<Axes: xlabel='marathon_distance', ylabel='Count'>"
      ]
     },
     "execution_count": 30,
     "metadata": {},
     "output_type": "execute_result"
    },
    {
     "data": {
      "image/png": "[encoded data removed]",
      "text/plain": [
       "<Figure size 640x480 with 1 Axes>"
      ]
     },
     "metadata": {},
     "output_type": "display_data"
    }
   ],
   "source": [
    "sns.set_style('darkgrid')\n",
    "sns.histplot(usa_2020_marathons_50['marathon_distance'])"
   ]
  },
  {
   "cell_type": "markdown",
   "id": "7f8c8224-d422-474a-8e63-0904ecb9bb03",
   "metadata": {},
   "source": [
    "# Ratio of marathon distances by gender"
   ]
  },
  {
   "cell_type": "code",
   "execution_count": 31,
   "id": "8b4eaf86-73d6-4547-ace0-040706772b4e",
   "metadata": {},
   "outputs": [
    {
     "data": {
      "text/plain": [
       "<Axes: xlabel='marathon_distance', ylabel='Count'>"
      ]
     },
     "execution_count": 31,
     "metadata": {},
     "output_type": "execute_result"
    },
    {
     "data": {
      "image/png": "[encoded data removed]",
      "text/plain": [
       "<Figure size 640x480 with 1 Axes>"
      ]
     },
     "metadata": {},
     "output_type": "display_data"
    }
   ],
   "source": [
    "sns.histplot(usa_2020_marathons_50, x='marathon_distance', hue='athlete_gender')"
   ]
  },
  {
   "cell_type": "code",
   "execution_count": 32,
   "id": "2b56423c-957a-477a-9258-624474f83fd0",
   "metadata": {},
   "outputs": [
    {
     "data": {
      "text/html": [
       "<div>\n",
       "<style scoped>\n",
       "    .dataframe tbody tr th:only-of-type {\n",
       "        vertical-align: middle;\n",
       "    }\n",
       "\n",
       "    .dataframe tbody tr th {\n",
       "        vertical-align: top;\n",
       "    }\n",
       "\n",
       "    .dataframe thead th {\n",
       "        text-align: right;\n",
       "    }\n",
       "</style>\n",
       "<table border=\"1\" class=\"dataframe\">\n",
       "  <thead>\n",
       "    <tr style=\"text-align: right;\">\n",
       "      <th></th>\n",
       "      <th></th>\n",
       "      <th>count</th>\n",
       "    </tr>\n",
       "    <tr>\n",
       "      <th>athlete_gender</th>\n",
       "      <th>marathon_distance</th>\n",
       "      <th></th>\n",
       "    </tr>\n",
       "  </thead>\n",
       "  <tbody>\n",
       "    <tr>\n",
       "      <th rowspan=\"2\" valign=\"top\">F</th>\n",
       "      <th>50km</th>\n",
       "      <td>6927</td>\n",
       "    </tr>\n",
       "    <tr>\n",
       "      <th>50mi</th>\n",
       "      <td>1581</td>\n",
       "    </tr>\n",
       "    <tr>\n",
       "      <th rowspan=\"2\" valign=\"top\">M</th>\n",
       "      <th>50km</th>\n",
       "      <td>13705</td>\n",
       "    </tr>\n",
       "    <tr>\n",
       "      <th>50mi</th>\n",
       "      <td>4076</td>\n",
       "    </tr>\n",
       "  </tbody>\n",
       "</table>\n",
       "</div>"
      ],
      "text/plain": [
       "                                  count\n",
       "athlete_gender marathon_distance       \n",
       "F              50km                6927\n",
       "               50mi                1581\n",
       "M              50km               13705\n",
       "               50mi                4076"
      ]
     },
     "execution_count": 32,
     "metadata": {},
     "output_type": "execute_result"
    }
   ],
   "source": [
    "usa_2020_marathons_50.groupby(['athlete_gender', 'marathon_distance'])['marathon_distance'].agg(['count'])"
   ]
  },
  {
   "cell_type": "markdown",
   "id": "1c38fa36-3bac-4557-93f7-17fbe541630f",
   "metadata": {},
   "source": [
    "# Distribution of average speed of athletes at 50-mile marathons"
   ]
  },
  {
   "cell_type": "code",
   "execution_count": 33,
   "id": "fbb5781e-96d4-4fc5-8b5f-2d743ab7c9c1",
   "metadata": {},
   "outputs": [
    {
     "data": {
      "text/plain": [
       "<seaborn.axisgrid.FacetGrid at 0x141393010>"
      ]
     },
     "execution_count": 33,
     "metadata": {},
     "output_type": "execute_result"
    },
    {
     "data": {
      "image/png": "[encoded data removed]",
      "text/plain": [
       "<Figure size 500x500 with 1 Axes>"
      ]
     },
     "metadata": {},
     "output_type": "display_data"
    }
   ],
   "source": [
    "sns.displot(usa_2020_marathons_50[usa_2020_marathons_50['marathon_distance']=='50mi']['athlete_avg_speed'])"
   ]
  },
  {
   "cell_type": "markdown",
   "id": "5c1d2034-1853-48d2-85a5-2aff0d7e7f32",
   "metadata": {},
   "source": [
    "# Distribution of average speed of athletes in 50km/50mi marathons by gender"
   ]
  },
  {
   "cell_type": "code",
   "execution_count": 34,
   "id": "931445e9-c38d-4fed-bd70-c6dfc0d08dd0",
   "metadata": {},
   "outputs": [
    {
     "data": {
      "text/plain": [
       "<Axes: xlabel='marathon_distance', ylabel='athlete_avg_speed'>"
      ]
     },
     "execution_count": 34,
     "metadata": {},
     "output_type": "execute_result"
    },
    {
     "data": {
      "image/png": "[encoded data removed]",
      "text/plain": [
       "<Figure size 640x480 with 1 Axes>"
      ]
     },
     "metadata": {},
     "output_type": "display_data"
    }
   ],
   "source": [
    "sns.violinplot(usa_2020_marathons_50, x='marathon_distance', y='athlete_avg_speed', hue='athlete_gender', split=True, inner='quart', linewidth=1.5)"
   ]
  },
  {
   "cell_type": "markdown",
   "id": "69ff7c4d-cec1-4502-850c-3921b1e11abd",
   "metadata": {},
   "source": [
    "# Relationship between age and average speed by athlete gender"
   ]
  },
  {
   "cell_type": "code",
   "execution_count": 35,
   "id": "415045c6-479b-4932-9838-85e9f162d0ff",
   "metadata": {},
   "outputs": [
    {
     "data": {
      "text/plain": [
       "<seaborn.axisgrid.FacetGrid at 0x1412341d0>"
      ]
     },
     "execution_count": 35,
     "metadata": {},
     "output_type": "execute_result"
    },
    {
     "data": {
      "image/png": "[encoded data removed]",
      "text/plain": [
       "<Figure size 604.111x500 with 1 Axes>"
      ]
     },
     "metadata": {},
     "output_type": "display_data"
    }
   ],
   "source": [
    "sns.lmplot(usa_2020_marathons_50, x='athlete_age', y='athlete_avg_speed', hue='athlete_gender')"
   ]
  },
  {
   "cell_type": "markdown",
   "id": "244155a8-d5d7-4a22-8e7c-ff1effe9e011",
   "metadata": {},
   "source": [
    "# Difference in speed for the 50km and 50mi between male and female"
   ]
  },
  {
   "cell_type": "code",
   "execution_count": 36,
   "id": "774dc5a4-c165-407b-b844-9b5bb11e5ce9",
   "metadata": {},
   "outputs": [
    {
     "data": {
      "text/html": [
       "<div>\n",
       "<style scoped>\n",
       "    .dataframe tbody tr th:only-of-type {\n",
       "        vertical-align: middle;\n",
       "    }\n",
       "\n",
       "    .dataframe tbody tr th {\n",
       "        vertical-align: top;\n",
       "    }\n",
       "\n",
       "    .dataframe thead th {\n",
       "        text-align: right;\n",
       "    }\n",
       "</style>\n",
       "<table border=\"1\" class=\"dataframe\">\n",
       "  <thead>\n",
       "    <tr style=\"text-align: right;\">\n",
       "      <th></th>\n",
       "      <th></th>\n",
       "      <th>mean</th>\n",
       "    </tr>\n",
       "    <tr>\n",
       "      <th>marathon_distance</th>\n",
       "      <th>athlete_gender</th>\n",
       "      <th></th>\n",
       "    </tr>\n",
       "  </thead>\n",
       "  <tbody>\n",
       "    <tr>\n",
       "      <th rowspan=\"2\" valign=\"top\">50km</th>\n",
       "      <th>F</th>\n",
       "      <td>7.092015</td>\n",
       "    </tr>\n",
       "    <tr>\n",
       "      <th>M</th>\n",
       "      <td>7.743376</td>\n",
       "    </tr>\n",
       "    <tr>\n",
       "      <th rowspan=\"2\" valign=\"top\">50mi</th>\n",
       "      <th>F</th>\n",
       "      <td>6.830764</td>\n",
       "    </tr>\n",
       "    <tr>\n",
       "      <th>M</th>\n",
       "      <td>7.249766</td>\n",
       "    </tr>\n",
       "  </tbody>\n",
       "</table>\n",
       "</div>"
      ],
      "text/plain": [
       "                                      mean\n",
       "marathon_distance athlete_gender          \n",
       "50km              F               7.092015\n",
       "                  M               7.743376\n",
       "50mi              F               6.830764\n",
       "                  M               7.249766"
      ]
     },
     "execution_count": 36,
     "metadata": {},
     "output_type": "execute_result"
    }
   ],
   "source": [
    "usa_2020_marathons_50.groupby(['marathon_distance', 'athlete_gender'])['athlete_avg_speed'].agg(['mean'])"
   ]
  },
  {
   "cell_type": "markdown",
   "id": "d1e85b9c-1993-4224-b3f2-3f628bf77f54",
   "metadata": {},
   "source": [
    "# What is the age of top-performing athletes in 50mi marathons"
   ]
  },
  {
   "cell_type": "code",
   "execution_count": 37,
   "id": "fd2c86a0-0812-433e-9109-95ee4088c7d4",
   "metadata": {},
   "outputs": [
    {
     "data": {
      "text/html": [
       "<div>\n",
       "<style scoped>\n",
       "    .dataframe tbody tr th:only-of-type {\n",
       "        vertical-align: middle;\n",
       "    }\n",
       "\n",
       "    .dataframe tbody tr th {\n",
       "        vertical-align: top;\n",
       "    }\n",
       "\n",
       "    .dataframe thead th {\n",
       "        text-align: right;\n",
       "    }\n",
       "</style>\n",
       "<table border=\"1\" class=\"dataframe\">\n",
       "  <thead>\n",
       "    <tr style=\"text-align: right;\">\n",
       "      <th></th>\n",
       "      <th>mean</th>\n",
       "      <th>count</th>\n",
       "    </tr>\n",
       "    <tr>\n",
       "      <th>athlete_age</th>\n",
       "      <th></th>\n",
       "      <th></th>\n",
       "    </tr>\n",
       "  </thead>\n",
       "  <tbody>\n",
       "    <tr>\n",
       "      <th>29</th>\n",
       "      <td>7.895574</td>\n",
       "      <td>136</td>\n",
       "    </tr>\n",
       "    <tr>\n",
       "      <th>23</th>\n",
       "      <td>7.779800</td>\n",
       "      <td>55</td>\n",
       "    </tr>\n",
       "    <tr>\n",
       "      <th>28</th>\n",
       "      <td>7.575252</td>\n",
       "      <td>107</td>\n",
       "    </tr>\n",
       "    <tr>\n",
       "      <th>30</th>\n",
       "      <td>7.569204</td>\n",
       "      <td>157</td>\n",
       "    </tr>\n",
       "    <tr>\n",
       "      <th>25</th>\n",
       "      <td>7.471053</td>\n",
       "      <td>95</td>\n",
       "    </tr>\n",
       "    <tr>\n",
       "      <th>31</th>\n",
       "      <td>7.440842</td>\n",
       "      <td>139</td>\n",
       "    </tr>\n",
       "    <tr>\n",
       "      <th>38</th>\n",
       "      <td>7.420884</td>\n",
       "      <td>232</td>\n",
       "    </tr>\n",
       "    <tr>\n",
       "      <th>35</th>\n",
       "      <td>7.414633</td>\n",
       "      <td>196</td>\n",
       "    </tr>\n",
       "    <tr>\n",
       "      <th>36</th>\n",
       "      <td>7.394645</td>\n",
       "      <td>186</td>\n",
       "    </tr>\n",
       "    <tr>\n",
       "      <th>33</th>\n",
       "      <td>7.379188</td>\n",
       "      <td>149</td>\n",
       "    </tr>\n",
       "    <tr>\n",
       "      <th>22</th>\n",
       "      <td>7.367902</td>\n",
       "      <td>41</td>\n",
       "    </tr>\n",
       "    <tr>\n",
       "      <th>26</th>\n",
       "      <td>7.328584</td>\n",
       "      <td>77</td>\n",
       "    </tr>\n",
       "    <tr>\n",
       "      <th>42</th>\n",
       "      <td>7.327656</td>\n",
       "      <td>209</td>\n",
       "    </tr>\n",
       "    <tr>\n",
       "      <th>24</th>\n",
       "      <td>7.327203</td>\n",
       "      <td>74</td>\n",
       "    </tr>\n",
       "    <tr>\n",
       "      <th>34</th>\n",
       "      <td>7.307923</td>\n",
       "      <td>183</td>\n",
       "    </tr>\n",
       "  </tbody>\n",
       "</table>\n",
       "</div>"
      ],
      "text/plain": [
       "                 mean  count\n",
       "athlete_age                 \n",
       "29           7.895574    136\n",
       "23           7.779800     55\n",
       "28           7.575252    107\n",
       "30           7.569204    157\n",
       "25           7.471053     95\n",
       "31           7.440842    139\n",
       "38           7.420884    232\n",
       "35           7.414633    196\n",
       "36           7.394645    186\n",
       "33           7.379188    149\n",
       "22           7.367902     41\n",
       "26           7.328584     77\n",
       "42           7.327656    209\n",
       "24           7.327203     74\n",
       "34           7.307923    183"
      ]
     },
     "execution_count": 37,
     "metadata": {},
     "output_type": "execute_result"
    }
   ],
   "source": [
    "usa_2020_marathons_50.query('marathon_distance==\"50mi\"').groupby('athlete_age')['athlete_avg_speed'].agg(['mean', 'count']).sort_values('mean', ascending=False).query('count>19').head(15)"
   ]
  },
  {
   "cell_type": "markdown",
   "id": "3dd6a40f-ec86-412e-b035-6af175b98722",
   "metadata": {},
   "source": [
    "# What is the age of worst-performing athletes in 50mi marathons"
   ]
  },
  {
   "cell_type": "code",
   "execution_count": 38,
   "id": "37e94738-cd82-444a-9fdd-56e96ce15e1b",
   "metadata": {},
   "outputs": [
    {
     "data": {
      "text/html": [
       "<div>\n",
       "<style scoped>\n",
       "    .dataframe tbody tr th:only-of-type {\n",
       "        vertical-align: middle;\n",
       "    }\n",
       "\n",
       "    .dataframe tbody tr th {\n",
       "        vertical-align: top;\n",
       "    }\n",
       "\n",
       "    .dataframe thead th {\n",
       "        text-align: right;\n",
       "    }\n",
       "</style>\n",
       "<table border=\"1\" class=\"dataframe\">\n",
       "  <thead>\n",
       "    <tr style=\"text-align: right;\">\n",
       "      <th></th>\n",
       "      <th>mean</th>\n",
       "      <th>count</th>\n",
       "    </tr>\n",
       "    <tr>\n",
       "      <th>athlete_age</th>\n",
       "      <th></th>\n",
       "      <th></th>\n",
       "    </tr>\n",
       "  </thead>\n",
       "  <tbody>\n",
       "    <tr>\n",
       "      <th>70</th>\n",
       "      <td>5.470667</td>\n",
       "      <td>12</td>\n",
       "    </tr>\n",
       "    <tr>\n",
       "      <th>65</th>\n",
       "      <td>5.934786</td>\n",
       "      <td>14</td>\n",
       "    </tr>\n",
       "    <tr>\n",
       "      <th>68</th>\n",
       "      <td>5.957500</td>\n",
       "      <td>10</td>\n",
       "    </tr>\n",
       "    <tr>\n",
       "      <th>67</th>\n",
       "      <td>6.114909</td>\n",
       "      <td>11</td>\n",
       "    </tr>\n",
       "    <tr>\n",
       "      <th>66</th>\n",
       "      <td>6.194300</td>\n",
       "      <td>10</td>\n",
       "    </tr>\n",
       "    <tr>\n",
       "      <th>60</th>\n",
       "      <td>6.227206</td>\n",
       "      <td>34</td>\n",
       "    </tr>\n",
       "    <tr>\n",
       "      <th>62</th>\n",
       "      <td>6.267564</td>\n",
       "      <td>39</td>\n",
       "    </tr>\n",
       "    <tr>\n",
       "      <th>61</th>\n",
       "      <td>6.358355</td>\n",
       "      <td>31</td>\n",
       "    </tr>\n",
       "    <tr>\n",
       "      <th>63</th>\n",
       "      <td>6.514806</td>\n",
       "      <td>31</td>\n",
       "    </tr>\n",
       "    <tr>\n",
       "      <th>58</th>\n",
       "      <td>6.582328</td>\n",
       "      <td>67</td>\n",
       "    </tr>\n",
       "    <tr>\n",
       "      <th>64</th>\n",
       "      <td>6.620727</td>\n",
       "      <td>22</td>\n",
       "    </tr>\n",
       "    <tr>\n",
       "      <th>50</th>\n",
       "      <td>6.671541</td>\n",
       "      <td>172</td>\n",
       "    </tr>\n",
       "    <tr>\n",
       "      <th>59</th>\n",
       "      <td>6.672072</td>\n",
       "      <td>83</td>\n",
       "    </tr>\n",
       "    <tr>\n",
       "      <th>48</th>\n",
       "      <td>6.696853</td>\n",
       "      <td>136</td>\n",
       "    </tr>\n",
       "    <tr>\n",
       "      <th>56</th>\n",
       "      <td>6.708373</td>\n",
       "      <td>67</td>\n",
       "    </tr>\n",
       "  </tbody>\n",
       "</table>\n",
       "</div>"
      ],
      "text/plain": [
       "                 mean  count\n",
       "athlete_age                 \n",
       "70           5.470667     12\n",
       "65           5.934786     14\n",
       "68           5.957500     10\n",
       "67           6.114909     11\n",
       "66           6.194300     10\n",
       "60           6.227206     34\n",
       "62           6.267564     39\n",
       "61           6.358355     31\n",
       "63           6.514806     31\n",
       "58           6.582328     67\n",
       "64           6.620727     22\n",
       "50           6.671541    172\n",
       "59           6.672072     83\n",
       "48           6.696853    136\n",
       "56           6.708373     67"
      ]
     },
     "execution_count": 38,
     "metadata": {},
     "output_type": "execute_result"
    }
   ],
   "source": [
    "usa_2020_marathons_50.query('marathon_distance==\"50mi\"').groupby('athlete_age')['athlete_avg_speed'].agg(['mean', 'count']).sort_values('mean', ascending=True).query('count>9').head(15)"
   ]
  },
  {
   "cell_type": "markdown",
   "id": "a5b3ce6c-139d-42f8-bfbe-aa935fb73822",
   "metadata": {},
   "source": [
    "# Does the season affect athlete performance?"
   ]
  },
  {
   "cell_type": "code",
   "execution_count": 41,
   "id": "86f21675-c489-450c-ad24-b14187bcfea9",
   "metadata": {},
   "outputs": [],
   "source": [
    "average_speed_per_month = subset.groupby('marathon_month')['athlete_avg_speed'].agg(['mean', 'count'])"
   ]
  },
  {
   "cell_type": "code",
   "execution_count": 43,
   "id": "d44e1b2a-0918-4383-a3e8-d53fcc7a52a8",
   "metadata": {},
   "outputs": [],
   "source": [
    "median_speed_per_month = subset.groupby('marathon_month')['athlete_avg_speed'].agg(['median', 'count'])"
   ]
  },
  {
   "cell_type": "code",
   "execution_count": 44,
   "id": "a47b8386-a227-467f-bbf7-c32a98d1b613",
   "metadata": {},
   "outputs": [
    {
     "data": {
      "text/html": [
       "<div>\n",
       "<style scoped>\n",
       "    .dataframe tbody tr th:only-of-type {\n",
       "        vertical-align: middle;\n",
       "    }\n",
       "\n",
       "    .dataframe tbody tr th {\n",
       "        vertical-align: top;\n",
       "    }\n",
       "\n",
       "    .dataframe thead th {\n",
       "        text-align: right;\n",
       "    }\n",
       "</style>\n",
       "<table border=\"1\" class=\"dataframe\">\n",
       "  <thead>\n",
       "    <tr style=\"text-align: right;\">\n",
       "      <th></th>\n",
       "      <th>mean</th>\n",
       "      <th>count</th>\n",
       "    </tr>\n",
       "    <tr>\n",
       "      <th>marathon_month</th>\n",
       "      <th></th>\n",
       "      <th></th>\n",
       "    </tr>\n",
       "  </thead>\n",
       "  <tbody>\n",
       "    <tr>\n",
       "      <th>1</th>\n",
       "      <td>7.629795</td>\n",
       "      <td>4253</td>\n",
       "    </tr>\n",
       "    <tr>\n",
       "      <th>2</th>\n",
       "      <td>7.620775</td>\n",
       "      <td>4349</td>\n",
       "    </tr>\n",
       "    <tr>\n",
       "      <th>3</th>\n",
       "      <td>7.824223</td>\n",
       "      <td>3243</td>\n",
       "    </tr>\n",
       "    <tr>\n",
       "      <th>5</th>\n",
       "      <td>5.850947</td>\n",
       "      <td>206</td>\n",
       "    </tr>\n",
       "    <tr>\n",
       "      <th>6</th>\n",
       "      <td>6.758081</td>\n",
       "      <td>713</td>\n",
       "    </tr>\n",
       "    <tr>\n",
       "      <th>7</th>\n",
       "      <td>6.772204</td>\n",
       "      <td>931</td>\n",
       "    </tr>\n",
       "    <tr>\n",
       "      <th>8</th>\n",
       "      <td>6.903904</td>\n",
       "      <td>1295</td>\n",
       "    </tr>\n",
       "    <tr>\n",
       "      <th>9</th>\n",
       "      <td>7.162728</td>\n",
       "      <td>1979</td>\n",
       "    </tr>\n",
       "    <tr>\n",
       "      <th>10</th>\n",
       "      <td>7.374881</td>\n",
       "      <td>3942</td>\n",
       "    </tr>\n",
       "    <tr>\n",
       "      <th>11</th>\n",
       "      <td>7.484297</td>\n",
       "      <td>3191</td>\n",
       "    </tr>\n",
       "    <tr>\n",
       "      <th>12</th>\n",
       "      <td>7.423010</td>\n",
       "      <td>2187</td>\n",
       "    </tr>\n",
       "  </tbody>\n",
       "</table>\n",
       "</div>"
      ],
      "text/plain": [
       "                    mean  count\n",
       "marathon_month                 \n",
       "1               7.629795   4253\n",
       "2               7.620775   4349\n",
       "3               7.824223   3243\n",
       "5               5.850947    206\n",
       "6               6.758081    713\n",
       "7               6.772204    931\n",
       "8               6.903904   1295\n",
       "9               7.162728   1979\n",
       "10              7.374881   3942\n",
       "11              7.484297   3191\n",
       "12              7.423010   2187"
      ]
     },
     "execution_count": 44,
     "metadata": {},
     "output_type": "execute_result"
    }
   ],
   "source": [
    "average_speed_per_month"
   ]
  },
  {
   "cell_type": "code",
   "execution_count": 45,
   "id": "574a8374-9686-4884-86fe-67396f68d622",
   "metadata": {},
   "outputs": [
    {
     "data": {
      "text/html": [
       "<div>\n",
       "<style scoped>\n",
       "    .dataframe tbody tr th:only-of-type {\n",
       "        vertical-align: middle;\n",
       "    }\n",
       "\n",
       "    .dataframe tbody tr th {\n",
       "        vertical-align: top;\n",
       "    }\n",
       "\n",
       "    .dataframe thead th {\n",
       "        text-align: right;\n",
       "    }\n",
       "</style>\n",
       "<table border=\"1\" class=\"dataframe\">\n",
       "  <thead>\n",
       "    <tr style=\"text-align: right;\">\n",
       "      <th></th>\n",
       "      <th>median</th>\n",
       "      <th>count</th>\n",
       "    </tr>\n",
       "    <tr>\n",
       "      <th>marathon_month</th>\n",
       "      <th></th>\n",
       "      <th></th>\n",
       "    </tr>\n",
       "  </thead>\n",
       "  <tbody>\n",
       "    <tr>\n",
       "      <th>1</th>\n",
       "      <td>7.3830</td>\n",
       "      <td>4253</td>\n",
       "    </tr>\n",
       "    <tr>\n",
       "      <th>2</th>\n",
       "      <td>7.3830</td>\n",
       "      <td>4349</td>\n",
       "    </tr>\n",
       "    <tr>\n",
       "      <th>3</th>\n",
       "      <td>7.4470</td>\n",
       "      <td>3243</td>\n",
       "    </tr>\n",
       "    <tr>\n",
       "      <th>5</th>\n",
       "      <td>5.6065</td>\n",
       "      <td>206</td>\n",
       "    </tr>\n",
       "    <tr>\n",
       "      <th>6</th>\n",
       "      <td>6.4530</td>\n",
       "      <td>713</td>\n",
       "    </tr>\n",
       "    <tr>\n",
       "      <th>7</th>\n",
       "      <td>6.4790</td>\n",
       "      <td>931</td>\n",
       "    </tr>\n",
       "    <tr>\n",
       "      <th>8</th>\n",
       "      <td>6.6630</td>\n",
       "      <td>1295</td>\n",
       "    </tr>\n",
       "    <tr>\n",
       "      <th>9</th>\n",
       "      <td>6.9910</td>\n",
       "      <td>1979</td>\n",
       "    </tr>\n",
       "    <tr>\n",
       "      <th>10</th>\n",
       "      <td>7.1660</td>\n",
       "      <td>3942</td>\n",
       "    </tr>\n",
       "    <tr>\n",
       "      <th>11</th>\n",
       "      <td>7.2730</td>\n",
       "      <td>3191</td>\n",
       "    </tr>\n",
       "    <tr>\n",
       "      <th>12</th>\n",
       "      <td>7.2250</td>\n",
       "      <td>2187</td>\n",
       "    </tr>\n",
       "  </tbody>\n",
       "</table>\n",
       "</div>"
      ],
      "text/plain": [
       "                median  count\n",
       "marathon_month               \n",
       "1               7.3830   4253\n",
       "2               7.3830   4349\n",
       "3               7.4470   3243\n",
       "5               5.6065    206\n",
       "6               6.4530    713\n",
       "7               6.4790    931\n",
       "8               6.6630   1295\n",
       "9               6.9910   1979\n",
       "10              7.1660   3942\n",
       "11              7.2730   3191\n",
       "12              7.2250   2187"
      ]
     },
     "execution_count": 45,
     "metadata": {},
     "output_type": "execute_result"
    }
   ],
   "source": [
    "median_speed_per_month"
   ]
  },
  {
   "cell_type": "code",
   "execution_count": 46,
   "id": "93883b51-4725-43a5-86d1-f830fd5b6702",
   "metadata": {},
   "outputs": [
    {
     "data": {
      "text/plain": [
       "[]"
      ]
     },
     "execution_count": 46,
     "metadata": {},
     "output_type": "execute_result"
    },
    {
     "data": {
      "image/png": "[encoded data removed]",
      "text/plain": [
       "<Figure size 640x480 with 1 Axes>"
      ]
     },
     "metadata": {},
     "output_type": "display_data"
    }
   ],
   "source": [
    "sns.set_style('darkgrid')\n",
    "average_speed_chart = sns.lineplot(data=median_speed_per_month, x='marathon_month', y='median')\n",
    "average_speed_chart.set_xticks(range(1,13))\n",
    "average_speed_chart.set_xticklabels(range(1,13))\n",
    "average_speed_chart.plot()"
   ]
  },
  {
   "cell_type": "code",
   "execution_count": null,
   "id": "4062cd3a-466c-4c26-baf2-0f211b68081a",
   "metadata": {},
   "outputs": [],
   "source": []
  }
 ],
 "metadata": {
  "kernelspec": {
   "display_name": "Python 3 (ipykernel)",
   "language": "python",
   "name": "python3"
  },
  "language_info": {
   "codemirror_mode": {
    "name": "ipython",
    "version": 3
   },
   "file_extension": ".py",
   "mimetype": "text/x-python",
   "name": "python",
   "nbconvert_exporter": "python",
   "pygments_lexer": "ipython3",
   "version": "3.11.2"
  }
 },
 "nbformat": 4,
 "nbformat_minor": 5
}
